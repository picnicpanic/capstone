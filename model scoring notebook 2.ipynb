{
 "cells": [
  {
   "cell_type": "code",
   "execution_count": 105,
   "metadata": {},
   "outputs": [],
   "source": [
    "import numpy as np \n",
    "import pandas as pd\n",
    "import matplotlib.pyplot as plt\n",
    "import _pickle as cPickle\n",
    "import seaborn as sb\n",
    "%matplotlib inline\n",
    "pd.set_option('display.max_rows',999)\n",
    "pd.set_option('display.max_columns',999)"
   ]
  },
  {
   "cell_type": "code",
   "execution_count": null,
   "metadata": {},
   "outputs": [],
   "source": []
  },
  {
   "cell_type": "code",
   "execution_count": null,
   "metadata": {},
   "outputs": [],
   "source": []
  },
  {
   "cell_type": "code",
   "execution_count": 106,
   "metadata": {},
   "outputs": [],
   "source": [
    "df = pd.read_pickle('dfaccept')"
   ]
  },
  {
   "cell_type": "code",
   "execution_count": 107,
   "metadata": {},
   "outputs": [],
   "source": [
    "df = df[['loan_status','issue_d','last_pymnt_d','loan_amnt','int_rate','term','out_prncp','installment','total_pymnt']]"
   ]
  },
  {
   "cell_type": "code",
   "execution_count": 108,
   "metadata": {},
   "outputs": [
    {
     "data": {
      "text/html": [
       "<div>\n",
       "<style scoped>\n",
       "    .dataframe tbody tr th:only-of-type {\n",
       "        vertical-align: middle;\n",
       "    }\n",
       "\n",
       "    .dataframe tbody tr th {\n",
       "        vertical-align: top;\n",
       "    }\n",
       "\n",
       "    .dataframe thead th {\n",
       "        text-align: right;\n",
       "    }\n",
       "</style>\n",
       "<table border=\"1\" class=\"dataframe\">\n",
       "  <thead>\n",
       "    <tr style=\"text-align: right;\">\n",
       "      <th></th>\n",
       "      <th>loan_status</th>\n",
       "      <th>issue_d</th>\n",
       "      <th>last_pymnt_d</th>\n",
       "      <th>loan_amnt</th>\n",
       "      <th>int_rate</th>\n",
       "      <th>term</th>\n",
       "      <th>out_prncp</th>\n",
       "      <th>installment</th>\n",
       "      <th>total_pymnt</th>\n",
       "    </tr>\n",
       "  </thead>\n",
       "  <tbody>\n",
       "    <tr>\n",
       "      <th>0</th>\n",
       "      <td>Fully Paid</td>\n",
       "      <td>Dec-2015</td>\n",
       "      <td>Jan-2019</td>\n",
       "      <td>3600.0</td>\n",
       "      <td>13.99</td>\n",
       "      <td>36 months</td>\n",
       "      <td>0.00</td>\n",
       "      <td>123.03</td>\n",
       "      <td>4421.723917</td>\n",
       "    </tr>\n",
       "    <tr>\n",
       "      <th>1</th>\n",
       "      <td>Fully Paid</td>\n",
       "      <td>Dec-2015</td>\n",
       "      <td>Jun-2016</td>\n",
       "      <td>24700.0</td>\n",
       "      <td>11.99</td>\n",
       "      <td>36 months</td>\n",
       "      <td>0.00</td>\n",
       "      <td>820.28</td>\n",
       "      <td>25679.660000</td>\n",
       "    </tr>\n",
       "    <tr>\n",
       "      <th>2</th>\n",
       "      <td>Fully Paid</td>\n",
       "      <td>Dec-2015</td>\n",
       "      <td>Jun-2017</td>\n",
       "      <td>20000.0</td>\n",
       "      <td>10.78</td>\n",
       "      <td>60 months</td>\n",
       "      <td>0.00</td>\n",
       "      <td>432.66</td>\n",
       "      <td>22705.924294</td>\n",
       "    </tr>\n",
       "    <tr>\n",
       "      <th>3</th>\n",
       "      <td>Current</td>\n",
       "      <td>Dec-2015</td>\n",
       "      <td>Feb-2019</td>\n",
       "      <td>35000.0</td>\n",
       "      <td>14.85</td>\n",
       "      <td>60 months</td>\n",
       "      <td>15897.65</td>\n",
       "      <td>829.90</td>\n",
       "      <td>31464.010000</td>\n",
       "    </tr>\n",
       "    <tr>\n",
       "      <th>4</th>\n",
       "      <td>Fully Paid</td>\n",
       "      <td>Dec-2015</td>\n",
       "      <td>Jul-2016</td>\n",
       "      <td>10400.0</td>\n",
       "      <td>22.45</td>\n",
       "      <td>60 months</td>\n",
       "      <td>0.00</td>\n",
       "      <td>289.91</td>\n",
       "      <td>11740.500000</td>\n",
       "    </tr>\n",
       "  </tbody>\n",
       "</table>\n",
       "</div>"
      ],
      "text/plain": [
       "  loan_status   issue_d last_pymnt_d  loan_amnt  int_rate        term  \\\n",
       "0  Fully Paid  Dec-2015     Jan-2019     3600.0     13.99   36 months   \n",
       "1  Fully Paid  Dec-2015     Jun-2016    24700.0     11.99   36 months   \n",
       "2  Fully Paid  Dec-2015     Jun-2017    20000.0     10.78   60 months   \n",
       "3     Current  Dec-2015     Feb-2019    35000.0     14.85   60 months   \n",
       "4  Fully Paid  Dec-2015     Jul-2016    10400.0     22.45   60 months   \n",
       "\n",
       "   out_prncp  installment   total_pymnt  \n",
       "0       0.00       123.03   4421.723917  \n",
       "1       0.00       820.28  25679.660000  \n",
       "2       0.00       432.66  22705.924294  \n",
       "3   15897.65       829.90  31464.010000  \n",
       "4       0.00       289.91  11740.500000  "
      ]
     },
     "execution_count": 108,
     "metadata": {},
     "output_type": "execute_result"
    }
   ],
   "source": [
    "df.head(5)"
   ]
  },
  {
   "cell_type": "code",
   "execution_count": 109,
   "metadata": {},
   "outputs": [],
   "source": [
    "df_negClass = df[df['loan_status'].isin(['Fully Paid', 'Does not meet the credit policy. Status:Fully Paid'])]\n",
    "\n",
    "df_posClass = df[df['loan_status'].isin(['Charged Off', \n",
    "                                         'Does not meet the credit policy. Status:Charged Off', 'Default'])]\n",
    "\n",
    "\n",
    "df = pd.concat([df_negClass, df_posClass]).reset_index(drop = True)"
   ]
  },
  {
   "cell_type": "code",
   "execution_count": 110,
   "metadata": {},
   "outputs": [],
   "source": [
    "df['loan_status_binary'] = (~df.loan_status.isin(['Fully Paid',\\\n",
    "                                                  'Does not meet the credit policy. Status:Fully Paid'])).astype(int)"
   ]
  },
  {
   "cell_type": "code",
   "execution_count": 111,
   "metadata": {},
   "outputs": [
    {
     "data": {
      "text/plain": [
       "0    1078739\n",
       "1     269360\n",
       "Name: loan_status_binary, dtype: int64"
      ]
     },
     "execution_count": 111,
     "metadata": {},
     "output_type": "execute_result"
    }
   ],
   "source": [
    "df.loan_status_binary.value_counts()"
   ]
  },
  {
   "cell_type": "code",
   "execution_count": 112,
   "metadata": {},
   "outputs": [],
   "source": [
    "df.drop('loan_status', axis = 1, inplace = True)"
   ]
  },
  {
   "cell_type": "code",
   "execution_count": 113,
   "metadata": {},
   "outputs": [
    {
     "data": {
      "text/html": [
       "<div>\n",
       "<style scoped>\n",
       "    .dataframe tbody tr th:only-of-type {\n",
       "        vertical-align: middle;\n",
       "    }\n",
       "\n",
       "    .dataframe tbody tr th {\n",
       "        vertical-align: top;\n",
       "    }\n",
       "\n",
       "    .dataframe thead th {\n",
       "        text-align: right;\n",
       "    }\n",
       "</style>\n",
       "<table border=\"1\" class=\"dataframe\">\n",
       "  <thead>\n",
       "    <tr style=\"text-align: right;\">\n",
       "      <th></th>\n",
       "      <th>issue_d</th>\n",
       "      <th>last_pymnt_d</th>\n",
       "      <th>loan_amnt</th>\n",
       "      <th>int_rate</th>\n",
       "      <th>term</th>\n",
       "      <th>out_prncp</th>\n",
       "      <th>installment</th>\n",
       "      <th>total_pymnt</th>\n",
       "      <th>loan_status_binary</th>\n",
       "    </tr>\n",
       "  </thead>\n",
       "  <tbody>\n",
       "    <tr>\n",
       "      <th>0</th>\n",
       "      <td>Dec-2015</td>\n",
       "      <td>Jan-2019</td>\n",
       "      <td>3600.0</td>\n",
       "      <td>13.99</td>\n",
       "      <td>36 months</td>\n",
       "      <td>0.0</td>\n",
       "      <td>123.03</td>\n",
       "      <td>4421.723917</td>\n",
       "      <td>0</td>\n",
       "    </tr>\n",
       "    <tr>\n",
       "      <th>1</th>\n",
       "      <td>Dec-2015</td>\n",
       "      <td>Jun-2016</td>\n",
       "      <td>24700.0</td>\n",
       "      <td>11.99</td>\n",
       "      <td>36 months</td>\n",
       "      <td>0.0</td>\n",
       "      <td>820.28</td>\n",
       "      <td>25679.660000</td>\n",
       "      <td>0</td>\n",
       "    </tr>\n",
       "    <tr>\n",
       "      <th>2</th>\n",
       "      <td>Dec-2015</td>\n",
       "      <td>Jun-2017</td>\n",
       "      <td>20000.0</td>\n",
       "      <td>10.78</td>\n",
       "      <td>60 months</td>\n",
       "      <td>0.0</td>\n",
       "      <td>432.66</td>\n",
       "      <td>22705.924294</td>\n",
       "      <td>0</td>\n",
       "    </tr>\n",
       "    <tr>\n",
       "      <th>3</th>\n",
       "      <td>Dec-2015</td>\n",
       "      <td>Jul-2016</td>\n",
       "      <td>10400.0</td>\n",
       "      <td>22.45</td>\n",
       "      <td>60 months</td>\n",
       "      <td>0.0</td>\n",
       "      <td>289.91</td>\n",
       "      <td>11740.500000</td>\n",
       "      <td>0</td>\n",
       "    </tr>\n",
       "    <tr>\n",
       "      <th>4</th>\n",
       "      <td>Dec-2015</td>\n",
       "      <td>May-2017</td>\n",
       "      <td>11950.0</td>\n",
       "      <td>13.44</td>\n",
       "      <td>36 months</td>\n",
       "      <td>0.0</td>\n",
       "      <td>405.18</td>\n",
       "      <td>13708.948530</td>\n",
       "      <td>0</td>\n",
       "    </tr>\n",
       "  </tbody>\n",
       "</table>\n",
       "</div>"
      ],
      "text/plain": [
       "    issue_d last_pymnt_d  loan_amnt  int_rate        term  out_prncp  \\\n",
       "0  Dec-2015     Jan-2019     3600.0     13.99   36 months        0.0   \n",
       "1  Dec-2015     Jun-2016    24700.0     11.99   36 months        0.0   \n",
       "2  Dec-2015     Jun-2017    20000.0     10.78   60 months        0.0   \n",
       "3  Dec-2015     Jul-2016    10400.0     22.45   60 months        0.0   \n",
       "4  Dec-2015     May-2017    11950.0     13.44   36 months        0.0   \n",
       "\n",
       "   installment   total_pymnt  loan_status_binary  \n",
       "0       123.03   4421.723917                   0  \n",
       "1       820.28  25679.660000                   0  \n",
       "2       432.66  22705.924294                   0  \n",
       "3       289.91  11740.500000                   0  \n",
       "4       405.18  13708.948530                   0  "
      ]
     },
     "execution_count": 113,
     "metadata": {},
     "output_type": "execute_result"
    }
   ],
   "source": [
    "df.head(5)"
   ]
  },
  {
   "cell_type": "code",
   "execution_count": 114,
   "metadata": {},
   "outputs": [
    {
     "data": {
      "text/plain": [
       "(1348099, 9)"
      ]
     },
     "execution_count": 114,
     "metadata": {},
     "output_type": "execute_result"
    }
   ],
   "source": [
    "df.shape"
   ]
  },
  {
   "cell_type": "code",
   "execution_count": 115,
   "metadata": {},
   "outputs": [
    {
     "name": "stdout",
     "output_type": "stream",
     "text": [
      "<class 'pandas.core.frame.DataFrame'>\n",
      "RangeIndex: 1348099 entries, 0 to 1348098\n",
      "Data columns (total 9 columns):\n",
      "issue_d               1348099 non-null object\n",
      "last_pymnt_d          1345774 non-null object\n",
      "loan_amnt             1348099 non-null float64\n",
      "int_rate              1348099 non-null float64\n",
      "term                  1348099 non-null object\n",
      "out_prncp             1348099 non-null float64\n",
      "installment           1348099 non-null float64\n",
      "total_pymnt           1348099 non-null float64\n",
      "loan_status_binary    1348099 non-null int32\n",
      "dtypes: float64(5), int32(1), object(3)\n",
      "memory usage: 87.4+ MB\n"
     ]
    }
   ],
   "source": [
    "df.info(verbose=True, null_counts=True)"
   ]
  },
  {
   "cell_type": "code",
   "execution_count": 83,
   "metadata": {},
   "outputs": [],
   "source": [
    "df.term=df.term.str.extract('(\\d+)') #extract numeric number from term, removing ' months' string"
   ]
  },
  {
   "cell_type": "code",
   "execution_count": 84,
   "metadata": {},
   "outputs": [],
   "source": [
    "df['term'] = pd.to_numeric(df['term'])"
   ]
  },
  {
   "cell_type": "code",
   "execution_count": 85,
   "metadata": {},
   "outputs": [
    {
     "data": {
      "text/html": [
       "<div>\n",
       "<style scoped>\n",
       "    .dataframe tbody tr th:only-of-type {\n",
       "        vertical-align: middle;\n",
       "    }\n",
       "\n",
       "    .dataframe tbody tr th {\n",
       "        vertical-align: top;\n",
       "    }\n",
       "\n",
       "    .dataframe thead th {\n",
       "        text-align: right;\n",
       "    }\n",
       "</style>\n",
       "<table border=\"1\" class=\"dataframe\">\n",
       "  <thead>\n",
       "    <tr style=\"text-align: right;\">\n",
       "      <th></th>\n",
       "      <th>issue_d</th>\n",
       "      <th>last_pymnt_d</th>\n",
       "      <th>loan_amnt</th>\n",
       "      <th>int_rate</th>\n",
       "      <th>term</th>\n",
       "      <th>out_prncp</th>\n",
       "      <th>installment</th>\n",
       "      <th>total_pymnt</th>\n",
       "      <th>loan_status_binary</th>\n",
       "    </tr>\n",
       "  </thead>\n",
       "  <tbody>\n",
       "    <tr>\n",
       "      <th>0</th>\n",
       "      <td>Dec-2015</td>\n",
       "      <td>Jan-2019</td>\n",
       "      <td>3600.0</td>\n",
       "      <td>13.99</td>\n",
       "      <td>36</td>\n",
       "      <td>0.0</td>\n",
       "      <td>123.03</td>\n",
       "      <td>4421.723917</td>\n",
       "      <td>0</td>\n",
       "    </tr>\n",
       "    <tr>\n",
       "      <th>1</th>\n",
       "      <td>Dec-2015</td>\n",
       "      <td>Jun-2016</td>\n",
       "      <td>24700.0</td>\n",
       "      <td>11.99</td>\n",
       "      <td>36</td>\n",
       "      <td>0.0</td>\n",
       "      <td>820.28</td>\n",
       "      <td>25679.660000</td>\n",
       "      <td>0</td>\n",
       "    </tr>\n",
       "    <tr>\n",
       "      <th>2</th>\n",
       "      <td>Dec-2015</td>\n",
       "      <td>Jun-2017</td>\n",
       "      <td>20000.0</td>\n",
       "      <td>10.78</td>\n",
       "      <td>60</td>\n",
       "      <td>0.0</td>\n",
       "      <td>432.66</td>\n",
       "      <td>22705.924294</td>\n",
       "      <td>0</td>\n",
       "    </tr>\n",
       "    <tr>\n",
       "      <th>3</th>\n",
       "      <td>Dec-2015</td>\n",
       "      <td>Jul-2016</td>\n",
       "      <td>10400.0</td>\n",
       "      <td>22.45</td>\n",
       "      <td>60</td>\n",
       "      <td>0.0</td>\n",
       "      <td>289.91</td>\n",
       "      <td>11740.500000</td>\n",
       "      <td>0</td>\n",
       "    </tr>\n",
       "    <tr>\n",
       "      <th>4</th>\n",
       "      <td>Dec-2015</td>\n",
       "      <td>May-2017</td>\n",
       "      <td>11950.0</td>\n",
       "      <td>13.44</td>\n",
       "      <td>36</td>\n",
       "      <td>0.0</td>\n",
       "      <td>405.18</td>\n",
       "      <td>13708.948530</td>\n",
       "      <td>0</td>\n",
       "    </tr>\n",
       "  </tbody>\n",
       "</table>\n",
       "</div>"
      ],
      "text/plain": [
       "    issue_d last_pymnt_d  loan_amnt  int_rate  term  out_prncp  installment  \\\n",
       "0  Dec-2015     Jan-2019     3600.0     13.99    36        0.0       123.03   \n",
       "1  Dec-2015     Jun-2016    24700.0     11.99    36        0.0       820.28   \n",
       "2  Dec-2015     Jun-2017    20000.0     10.78    60        0.0       432.66   \n",
       "3  Dec-2015     Jul-2016    10400.0     22.45    60        0.0       289.91   \n",
       "4  Dec-2015     May-2017    11950.0     13.44    36        0.0       405.18   \n",
       "\n",
       "    total_pymnt  loan_status_binary  \n",
       "0   4421.723917                   0  \n",
       "1  25679.660000                   0  \n",
       "2  22705.924294                   0  \n",
       "3  11740.500000                   0  \n",
       "4  13708.948530                   0  "
      ]
     },
     "execution_count": 85,
     "metadata": {},
     "output_type": "execute_result"
    }
   ],
   "source": [
    "df.head(5)"
   ]
  },
  {
   "cell_type": "code",
   "execution_count": 86,
   "metadata": {},
   "outputs": [
    {
     "data": {
      "text/plain": [
       "60"
      ]
     },
     "execution_count": 86,
     "metadata": {},
     "output_type": "execute_result"
    }
   ],
   "source": [
    "df.term.max()"
   ]
  },
  {
   "cell_type": "code",
   "execution_count": 87,
   "metadata": {},
   "outputs": [
    {
     "data": {
      "text/plain": [
       "36"
      ]
     },
     "execution_count": 87,
     "metadata": {},
     "output_type": "execute_result"
    }
   ],
   "source": [
    "df.term.min()"
   ]
  },
  {
   "cell_type": "code",
   "execution_count": 88,
   "metadata": {},
   "outputs": [],
   "source": [
    "def missing_data(df):\n",
    "    miss = np.sum(df.isnull(),axis =0)\n",
    "    miss = miss.loc[miss>0].sort_values(ascending = False)\n",
    "    missmean = np.mean(df.isnull(),axis =0)\n",
    "    missmean = missmean.loc[missmean>0].sort_values(ascending = False)\n",
    "    return pd.concat([miss.rename('count'),missmean.rename('mean')],axis = 1)"
   ]
  },
  {
   "cell_type": "code",
   "execution_count": 89,
   "metadata": {},
   "outputs": [
    {
     "data": {
      "text/html": [
       "<div>\n",
       "<style scoped>\n",
       "    .dataframe tbody tr th:only-of-type {\n",
       "        vertical-align: middle;\n",
       "    }\n",
       "\n",
       "    .dataframe tbody tr th {\n",
       "        vertical-align: top;\n",
       "    }\n",
       "\n",
       "    .dataframe thead th {\n",
       "        text-align: right;\n",
       "    }\n",
       "</style>\n",
       "<table border=\"1\" class=\"dataframe\">\n",
       "  <thead>\n",
       "    <tr style=\"text-align: right;\">\n",
       "      <th></th>\n",
       "      <th>count</th>\n",
       "      <th>mean</th>\n",
       "    </tr>\n",
       "  </thead>\n",
       "  <tbody>\n",
       "    <tr>\n",
       "      <th>last_pymnt_d</th>\n",
       "      <td>2325</td>\n",
       "      <td>0.001725</td>\n",
       "    </tr>\n",
       "  </tbody>\n",
       "</table>\n",
       "</div>"
      ],
      "text/plain": [
       "              count      mean\n",
       "last_pymnt_d   2325  0.001725"
      ]
     },
     "execution_count": 89,
     "metadata": {},
     "output_type": "execute_result"
    }
   ],
   "source": [
    "missing_data(df)"
   ]
  },
  {
   "cell_type": "code",
   "execution_count": 22,
   "metadata": {},
   "outputs": [],
   "source": [
    "#df=df.dropna() #remove missing payment date rows"
   ]
  },
  {
   "cell_type": "code",
   "execution_count": 90,
   "metadata": {},
   "outputs": [
    {
     "data": {
      "text/plain": [
       "(1348099, 9)"
      ]
     },
     "execution_count": 90,
     "metadata": {},
     "output_type": "execute_result"
    }
   ],
   "source": [
    "df.shape"
   ]
  },
  {
   "cell_type": "code",
   "execution_count": 91,
   "metadata": {},
   "outputs": [
    {
     "data": {
      "text/html": [
       "<div>\n",
       "<style scoped>\n",
       "    .dataframe tbody tr th:only-of-type {\n",
       "        vertical-align: middle;\n",
       "    }\n",
       "\n",
       "    .dataframe tbody tr th {\n",
       "        vertical-align: top;\n",
       "    }\n",
       "\n",
       "    .dataframe thead th {\n",
       "        text-align: right;\n",
       "    }\n",
       "</style>\n",
       "<table border=\"1\" class=\"dataframe\">\n",
       "  <thead>\n",
       "    <tr style=\"text-align: right;\">\n",
       "      <th></th>\n",
       "      <th>count</th>\n",
       "      <th>mean</th>\n",
       "    </tr>\n",
       "  </thead>\n",
       "  <tbody>\n",
       "    <tr>\n",
       "      <th>last_pymnt_d</th>\n",
       "      <td>2325</td>\n",
       "      <td>0.001725</td>\n",
       "    </tr>\n",
       "  </tbody>\n",
       "</table>\n",
       "</div>"
      ],
      "text/plain": [
       "              count      mean\n",
       "last_pymnt_d   2325  0.001725"
      ]
     },
     "execution_count": 91,
     "metadata": {},
     "output_type": "execute_result"
    }
   ],
   "source": [
    "missing_data(df)"
   ]
  },
  {
   "cell_type": "code",
   "execution_count": 116,
   "metadata": {},
   "outputs": [],
   "source": [
    "df[\"interest_over_principal\"]=df.total_pymnt-df.loan_amnt"
   ]
  },
  {
   "cell_type": "code",
   "execution_count": 117,
   "metadata": {},
   "outputs": [
    {
     "data": {
      "text/html": [
       "<div>\n",
       "<style scoped>\n",
       "    .dataframe tbody tr th:only-of-type {\n",
       "        vertical-align: middle;\n",
       "    }\n",
       "\n",
       "    .dataframe tbody tr th {\n",
       "        vertical-align: top;\n",
       "    }\n",
       "\n",
       "    .dataframe thead th {\n",
       "        text-align: right;\n",
       "    }\n",
       "</style>\n",
       "<table border=\"1\" class=\"dataframe\">\n",
       "  <thead>\n",
       "    <tr style=\"text-align: right;\">\n",
       "      <th></th>\n",
       "      <th>issue_d</th>\n",
       "      <th>last_pymnt_d</th>\n",
       "      <th>loan_amnt</th>\n",
       "      <th>int_rate</th>\n",
       "      <th>term</th>\n",
       "      <th>out_prncp</th>\n",
       "      <th>installment</th>\n",
       "      <th>total_pymnt</th>\n",
       "      <th>loan_status_binary</th>\n",
       "      <th>interest_over_principal</th>\n",
       "    </tr>\n",
       "  </thead>\n",
       "  <tbody>\n",
       "    <tr>\n",
       "      <th>0</th>\n",
       "      <td>Dec-2015</td>\n",
       "      <td>Jan-2019</td>\n",
       "      <td>3600.0</td>\n",
       "      <td>13.99</td>\n",
       "      <td>36 months</td>\n",
       "      <td>0.0</td>\n",
       "      <td>123.03</td>\n",
       "      <td>4421.723917</td>\n",
       "      <td>0</td>\n",
       "      <td>821.723917</td>\n",
       "    </tr>\n",
       "    <tr>\n",
       "      <th>1</th>\n",
       "      <td>Dec-2015</td>\n",
       "      <td>Jun-2016</td>\n",
       "      <td>24700.0</td>\n",
       "      <td>11.99</td>\n",
       "      <td>36 months</td>\n",
       "      <td>0.0</td>\n",
       "      <td>820.28</td>\n",
       "      <td>25679.660000</td>\n",
       "      <td>0</td>\n",
       "      <td>979.660000</td>\n",
       "    </tr>\n",
       "    <tr>\n",
       "      <th>2</th>\n",
       "      <td>Dec-2015</td>\n",
       "      <td>Jun-2017</td>\n",
       "      <td>20000.0</td>\n",
       "      <td>10.78</td>\n",
       "      <td>60 months</td>\n",
       "      <td>0.0</td>\n",
       "      <td>432.66</td>\n",
       "      <td>22705.924294</td>\n",
       "      <td>0</td>\n",
       "      <td>2705.924294</td>\n",
       "    </tr>\n",
       "    <tr>\n",
       "      <th>3</th>\n",
       "      <td>Dec-2015</td>\n",
       "      <td>Jul-2016</td>\n",
       "      <td>10400.0</td>\n",
       "      <td>22.45</td>\n",
       "      <td>60 months</td>\n",
       "      <td>0.0</td>\n",
       "      <td>289.91</td>\n",
       "      <td>11740.500000</td>\n",
       "      <td>0</td>\n",
       "      <td>1340.500000</td>\n",
       "    </tr>\n",
       "    <tr>\n",
       "      <th>4</th>\n",
       "      <td>Dec-2015</td>\n",
       "      <td>May-2017</td>\n",
       "      <td>11950.0</td>\n",
       "      <td>13.44</td>\n",
       "      <td>36 months</td>\n",
       "      <td>0.0</td>\n",
       "      <td>405.18</td>\n",
       "      <td>13708.948530</td>\n",
       "      <td>0</td>\n",
       "      <td>1758.948530</td>\n",
       "    </tr>\n",
       "  </tbody>\n",
       "</table>\n",
       "</div>"
      ],
      "text/plain": [
       "    issue_d last_pymnt_d  loan_amnt  int_rate        term  out_prncp  \\\n",
       "0  Dec-2015     Jan-2019     3600.0     13.99   36 months        0.0   \n",
       "1  Dec-2015     Jun-2016    24700.0     11.99   36 months        0.0   \n",
       "2  Dec-2015     Jun-2017    20000.0     10.78   60 months        0.0   \n",
       "3  Dec-2015     Jul-2016    10400.0     22.45   60 months        0.0   \n",
       "4  Dec-2015     May-2017    11950.0     13.44   36 months        0.0   \n",
       "\n",
       "   installment   total_pymnt  loan_status_binary  interest_over_principal  \n",
       "0       123.03   4421.723917                   0               821.723917  \n",
       "1       820.28  25679.660000                   0               979.660000  \n",
       "2       432.66  22705.924294                   0              2705.924294  \n",
       "3       289.91  11740.500000                   0              1340.500000  \n",
       "4       405.18  13708.948530                   0              1758.948530  "
      ]
     },
     "execution_count": 117,
     "metadata": {},
     "output_type": "execute_result"
    }
   ],
   "source": [
    "df.head(5)"
   ]
  },
  {
   "cell_type": "code",
   "execution_count": 118,
   "metadata": {},
   "outputs": [],
   "source": [
    "df.interest_over_principal=df.interest_over_principal.round(2)"
   ]
  },
  {
   "cell_type": "code",
   "execution_count": 95,
   "metadata": {},
   "outputs": [
    {
     "data": {
      "text/html": [
       "<div>\n",
       "<style scoped>\n",
       "    .dataframe tbody tr th:only-of-type {\n",
       "        vertical-align: middle;\n",
       "    }\n",
       "\n",
       "    .dataframe tbody tr th {\n",
       "        vertical-align: top;\n",
       "    }\n",
       "\n",
       "    .dataframe thead th {\n",
       "        text-align: right;\n",
       "    }\n",
       "</style>\n",
       "<table border=\"1\" class=\"dataframe\">\n",
       "  <thead>\n",
       "    <tr style=\"text-align: right;\">\n",
       "      <th></th>\n",
       "      <th>issue_d</th>\n",
       "      <th>last_pymnt_d</th>\n",
       "      <th>loan_amnt</th>\n",
       "      <th>int_rate</th>\n",
       "      <th>term</th>\n",
       "      <th>out_prncp</th>\n",
       "      <th>installment</th>\n",
       "      <th>total_pymnt</th>\n",
       "      <th>loan_status_binary</th>\n",
       "      <th>interest_over_principal</th>\n",
       "    </tr>\n",
       "  </thead>\n",
       "  <tbody>\n",
       "    <tr>\n",
       "      <th>0</th>\n",
       "      <td>Dec-2015</td>\n",
       "      <td>Jan-2019</td>\n",
       "      <td>3600.0</td>\n",
       "      <td>13.99</td>\n",
       "      <td>36</td>\n",
       "      <td>0.0</td>\n",
       "      <td>123.03</td>\n",
       "      <td>4421.723917</td>\n",
       "      <td>0</td>\n",
       "      <td>821.72</td>\n",
       "    </tr>\n",
       "    <tr>\n",
       "      <th>1</th>\n",
       "      <td>Dec-2015</td>\n",
       "      <td>Jun-2016</td>\n",
       "      <td>24700.0</td>\n",
       "      <td>11.99</td>\n",
       "      <td>36</td>\n",
       "      <td>0.0</td>\n",
       "      <td>820.28</td>\n",
       "      <td>25679.660000</td>\n",
       "      <td>0</td>\n",
       "      <td>979.66</td>\n",
       "    </tr>\n",
       "    <tr>\n",
       "      <th>2</th>\n",
       "      <td>Dec-2015</td>\n",
       "      <td>Jun-2017</td>\n",
       "      <td>20000.0</td>\n",
       "      <td>10.78</td>\n",
       "      <td>60</td>\n",
       "      <td>0.0</td>\n",
       "      <td>432.66</td>\n",
       "      <td>22705.924294</td>\n",
       "      <td>0</td>\n",
       "      <td>2705.92</td>\n",
       "    </tr>\n",
       "    <tr>\n",
       "      <th>3</th>\n",
       "      <td>Dec-2015</td>\n",
       "      <td>Jul-2016</td>\n",
       "      <td>10400.0</td>\n",
       "      <td>22.45</td>\n",
       "      <td>60</td>\n",
       "      <td>0.0</td>\n",
       "      <td>289.91</td>\n",
       "      <td>11740.500000</td>\n",
       "      <td>0</td>\n",
       "      <td>1340.50</td>\n",
       "    </tr>\n",
       "    <tr>\n",
       "      <th>4</th>\n",
       "      <td>Dec-2015</td>\n",
       "      <td>May-2017</td>\n",
       "      <td>11950.0</td>\n",
       "      <td>13.44</td>\n",
       "      <td>36</td>\n",
       "      <td>0.0</td>\n",
       "      <td>405.18</td>\n",
       "      <td>13708.948530</td>\n",
       "      <td>0</td>\n",
       "      <td>1758.95</td>\n",
       "    </tr>\n",
       "  </tbody>\n",
       "</table>\n",
       "</div>"
      ],
      "text/plain": [
       "    issue_d last_pymnt_d  loan_amnt  int_rate  term  out_prncp  installment  \\\n",
       "0  Dec-2015     Jan-2019     3600.0     13.99    36        0.0       123.03   \n",
       "1  Dec-2015     Jun-2016    24700.0     11.99    36        0.0       820.28   \n",
       "2  Dec-2015     Jun-2017    20000.0     10.78    60        0.0       432.66   \n",
       "3  Dec-2015     Jul-2016    10400.0     22.45    60        0.0       289.91   \n",
       "4  Dec-2015     May-2017    11950.0     13.44    36        0.0       405.18   \n",
       "\n",
       "    total_pymnt  loan_status_binary  interest_over_principal  \n",
       "0   4421.723917                   0                   821.72  \n",
       "1  25679.660000                   0                   979.66  \n",
       "2  22705.924294                   0                  2705.92  \n",
       "3  11740.500000                   0                  1340.50  \n",
       "4  13708.948530                   0                  1758.95  "
      ]
     },
     "execution_count": 95,
     "metadata": {},
     "output_type": "execute_result"
    }
   ],
   "source": [
    "df.head(5)"
   ]
  },
  {
   "cell_type": "code",
   "execution_count": 119,
   "metadata": {},
   "outputs": [],
   "source": [
    "df_paid = df[df['loan_status_binary'] == 0]\n",
    "df_default = df[df['loan_status_binary']== 1]"
   ]
  },
  {
   "cell_type": "code",
   "execution_count": 97,
   "metadata": {},
   "outputs": [
    {
     "data": {
      "text/html": [
       "<div>\n",
       "<style scoped>\n",
       "    .dataframe tbody tr th:only-of-type {\n",
       "        vertical-align: middle;\n",
       "    }\n",
       "\n",
       "    .dataframe tbody tr th {\n",
       "        vertical-align: top;\n",
       "    }\n",
       "\n",
       "    .dataframe thead th {\n",
       "        text-align: right;\n",
       "    }\n",
       "</style>\n",
       "<table border=\"1\" class=\"dataframe\">\n",
       "  <thead>\n",
       "    <tr style=\"text-align: right;\">\n",
       "      <th></th>\n",
       "      <th>issue_d</th>\n",
       "      <th>last_pymnt_d</th>\n",
       "      <th>loan_amnt</th>\n",
       "      <th>int_rate</th>\n",
       "      <th>term</th>\n",
       "      <th>out_prncp</th>\n",
       "      <th>installment</th>\n",
       "      <th>total_pymnt</th>\n",
       "      <th>loan_status_binary</th>\n",
       "      <th>interest_over_principal</th>\n",
       "    </tr>\n",
       "  </thead>\n",
       "  <tbody>\n",
       "    <tr>\n",
       "      <th>0</th>\n",
       "      <td>Dec-2015</td>\n",
       "      <td>Jan-2019</td>\n",
       "      <td>3600.0</td>\n",
       "      <td>13.99</td>\n",
       "      <td>36</td>\n",
       "      <td>0.0</td>\n",
       "      <td>123.03</td>\n",
       "      <td>4421.723917</td>\n",
       "      <td>0</td>\n",
       "      <td>821.72</td>\n",
       "    </tr>\n",
       "    <tr>\n",
       "      <th>1</th>\n",
       "      <td>Dec-2015</td>\n",
       "      <td>Jun-2016</td>\n",
       "      <td>24700.0</td>\n",
       "      <td>11.99</td>\n",
       "      <td>36</td>\n",
       "      <td>0.0</td>\n",
       "      <td>820.28</td>\n",
       "      <td>25679.660000</td>\n",
       "      <td>0</td>\n",
       "      <td>979.66</td>\n",
       "    </tr>\n",
       "    <tr>\n",
       "      <th>2</th>\n",
       "      <td>Dec-2015</td>\n",
       "      <td>Jun-2017</td>\n",
       "      <td>20000.0</td>\n",
       "      <td>10.78</td>\n",
       "      <td>60</td>\n",
       "      <td>0.0</td>\n",
       "      <td>432.66</td>\n",
       "      <td>22705.924294</td>\n",
       "      <td>0</td>\n",
       "      <td>2705.92</td>\n",
       "    </tr>\n",
       "    <tr>\n",
       "      <th>3</th>\n",
       "      <td>Dec-2015</td>\n",
       "      <td>Jul-2016</td>\n",
       "      <td>10400.0</td>\n",
       "      <td>22.45</td>\n",
       "      <td>60</td>\n",
       "      <td>0.0</td>\n",
       "      <td>289.91</td>\n",
       "      <td>11740.500000</td>\n",
       "      <td>0</td>\n",
       "      <td>1340.50</td>\n",
       "    </tr>\n",
       "    <tr>\n",
       "      <th>4</th>\n",
       "      <td>Dec-2015</td>\n",
       "      <td>May-2017</td>\n",
       "      <td>11950.0</td>\n",
       "      <td>13.44</td>\n",
       "      <td>36</td>\n",
       "      <td>0.0</td>\n",
       "      <td>405.18</td>\n",
       "      <td>13708.948530</td>\n",
       "      <td>0</td>\n",
       "      <td>1758.95</td>\n",
       "    </tr>\n",
       "  </tbody>\n",
       "</table>\n",
       "</div>"
      ],
      "text/plain": [
       "    issue_d last_pymnt_d  loan_amnt  int_rate  term  out_prncp  installment  \\\n",
       "0  Dec-2015     Jan-2019     3600.0     13.99    36        0.0       123.03   \n",
       "1  Dec-2015     Jun-2016    24700.0     11.99    36        0.0       820.28   \n",
       "2  Dec-2015     Jun-2017    20000.0     10.78    60        0.0       432.66   \n",
       "3  Dec-2015     Jul-2016    10400.0     22.45    60        0.0       289.91   \n",
       "4  Dec-2015     May-2017    11950.0     13.44    36        0.0       405.18   \n",
       "\n",
       "    total_pymnt  loan_status_binary  interest_over_principal  \n",
       "0   4421.723917                   0                   821.72  \n",
       "1  25679.660000                   0                   979.66  \n",
       "2  22705.924294                   0                  2705.92  \n",
       "3  11740.500000                   0                  1340.50  \n",
       "4  13708.948530                   0                  1758.95  "
      ]
     },
     "execution_count": 97,
     "metadata": {},
     "output_type": "execute_result"
    }
   ],
   "source": [
    "df_paid.head(5)"
   ]
  },
  {
   "cell_type": "code",
   "execution_count": 98,
   "metadata": {},
   "outputs": [
    {
     "data": {
      "text/html": [
       "<div>\n",
       "<style scoped>\n",
       "    .dataframe tbody tr th:only-of-type {\n",
       "        vertical-align: middle;\n",
       "    }\n",
       "\n",
       "    .dataframe tbody tr th {\n",
       "        vertical-align: top;\n",
       "    }\n",
       "\n",
       "    .dataframe thead th {\n",
       "        text-align: right;\n",
       "    }\n",
       "</style>\n",
       "<table border=\"1\" class=\"dataframe\">\n",
       "  <thead>\n",
       "    <tr style=\"text-align: right;\">\n",
       "      <th></th>\n",
       "      <th>issue_d</th>\n",
       "      <th>last_pymnt_d</th>\n",
       "      <th>loan_amnt</th>\n",
       "      <th>int_rate</th>\n",
       "      <th>term</th>\n",
       "      <th>out_prncp</th>\n",
       "      <th>installment</th>\n",
       "      <th>total_pymnt</th>\n",
       "      <th>loan_status_binary</th>\n",
       "      <th>interest_over_principal</th>\n",
       "    </tr>\n",
       "  </thead>\n",
       "  <tbody>\n",
       "    <tr>\n",
       "      <th>1078739</th>\n",
       "      <td>Dec-2015</td>\n",
       "      <td>May-2017</td>\n",
       "      <td>18000.0</td>\n",
       "      <td>19.48</td>\n",
       "      <td>60</td>\n",
       "      <td>0.0</td>\n",
       "      <td>471.70</td>\n",
       "      <td>9452.74</td>\n",
       "      <td>1</td>\n",
       "      <td>-8547.26</td>\n",
       "    </tr>\n",
       "    <tr>\n",
       "      <th>1078740</th>\n",
       "      <td>Dec-2015</td>\n",
       "      <td>Apr-2017</td>\n",
       "      <td>4225.0</td>\n",
       "      <td>14.85</td>\n",
       "      <td>36</td>\n",
       "      <td>0.0</td>\n",
       "      <td>146.16</td>\n",
       "      <td>2558.87</td>\n",
       "      <td>1</td>\n",
       "      <td>-1666.13</td>\n",
       "    </tr>\n",
       "    <tr>\n",
       "      <th>1078741</th>\n",
       "      <td>Dec-2015</td>\n",
       "      <td>Nov-2018</td>\n",
       "      <td>16000.0</td>\n",
       "      <td>12.88</td>\n",
       "      <td>36</td>\n",
       "      <td>0.0</td>\n",
       "      <td>538.18</td>\n",
       "      <td>17396.63</td>\n",
       "      <td>1</td>\n",
       "      <td>1396.63</td>\n",
       "    </tr>\n",
       "    <tr>\n",
       "      <th>1078742</th>\n",
       "      <td>Dec-2015</td>\n",
       "      <td>Jul-2016</td>\n",
       "      <td>24250.0</td>\n",
       "      <td>24.24</td>\n",
       "      <td>60</td>\n",
       "      <td>0.0</td>\n",
       "      <td>701.01</td>\n",
       "      <td>4124.42</td>\n",
       "      <td>1</td>\n",
       "      <td>-20125.58</td>\n",
       "    </tr>\n",
       "    <tr>\n",
       "      <th>1078743</th>\n",
       "      <td>Dec-2015</td>\n",
       "      <td>Feb-2018</td>\n",
       "      <td>25000.0</td>\n",
       "      <td>13.99</td>\n",
       "      <td>60</td>\n",
       "      <td>0.0</td>\n",
       "      <td>581.58</td>\n",
       "      <td>14490.92</td>\n",
       "      <td>1</td>\n",
       "      <td>-10509.08</td>\n",
       "    </tr>\n",
       "  </tbody>\n",
       "</table>\n",
       "</div>"
      ],
      "text/plain": [
       "          issue_d last_pymnt_d  loan_amnt  int_rate  term  out_prncp  \\\n",
       "1078739  Dec-2015     May-2017    18000.0     19.48    60        0.0   \n",
       "1078740  Dec-2015     Apr-2017     4225.0     14.85    36        0.0   \n",
       "1078741  Dec-2015     Nov-2018    16000.0     12.88    36        0.0   \n",
       "1078742  Dec-2015     Jul-2016    24250.0     24.24    60        0.0   \n",
       "1078743  Dec-2015     Feb-2018    25000.0     13.99    60        0.0   \n",
       "\n",
       "         installment  total_pymnt  loan_status_binary  interest_over_principal  \n",
       "1078739       471.70      9452.74                   1                 -8547.26  \n",
       "1078740       146.16      2558.87                   1                 -1666.13  \n",
       "1078741       538.18     17396.63                   1                  1396.63  \n",
       "1078742       701.01      4124.42                   1                -20125.58  \n",
       "1078743       581.58     14490.92                   1                -10509.08  "
      ]
     },
     "execution_count": 98,
     "metadata": {},
     "output_type": "execute_result"
    }
   ],
   "source": [
    "df_default.head(5)"
   ]
  },
  {
   "cell_type": "code",
   "execution_count": 121,
   "metadata": {},
   "outputs": [
    {
     "data": {
      "text/plain": [
       "542888143.7200009"
      ]
     },
     "execution_count": 121,
     "metadata": {},
     "output_type": "execute_result"
    }
   ],
   "source": [
    "df.interest_over_principal.sum()"
   ]
  },
  {
   "cell_type": "code",
   "execution_count": 122,
   "metadata": {},
   "outputs": [
    {
     "data": {
      "text/plain": [
       "19424757025.0"
      ]
     },
     "execution_count": 122,
     "metadata": {},
     "output_type": "execute_result"
    }
   ],
   "source": [
    "df.loan_amnt.sum()"
   ]
  },
  {
   "cell_type": "code",
   "execution_count": 124,
   "metadata": {},
   "outputs": [
    {
     "data": {
      "text/plain": [
       "2.7948259173656296"
      ]
     },
     "execution_count": 124,
     "metadata": {},
     "output_type": "execute_result"
    }
   ],
   "source": [
    "(542888143.7200009/19424757025.0)*100"
   ]
  },
  {
   "cell_type": "code",
   "execution_count": null,
   "metadata": {},
   "outputs": [],
   "source": []
  },
  {
   "cell_type": "code",
   "execution_count": null,
   "metadata": {},
   "outputs": [],
   "source": []
  },
  {
   "cell_type": "code",
   "execution_count": null,
   "metadata": {},
   "outputs": [],
   "source": []
  },
  {
   "cell_type": "code",
   "execution_count": null,
   "metadata": {},
   "outputs": [],
   "source": []
  },
  {
   "cell_type": "code",
   "execution_count": null,
   "metadata": {},
   "outputs": [],
   "source": []
  },
  {
   "cell_type": "code",
   "execution_count": null,
   "metadata": {},
   "outputs": [],
   "source": []
  },
  {
   "cell_type": "code",
   "execution_count": 120,
   "metadata": {},
   "outputs": [
    {
     "data": {
      "text/plain": [
       "(1078739, 10)"
      ]
     },
     "execution_count": 120,
     "metadata": {},
     "output_type": "execute_result"
    }
   ],
   "source": [
    "df_paid.shape"
   ]
  },
  {
   "cell_type": "code",
   "execution_count": 61,
   "metadata": {},
   "outputs": [
    {
     "data": {
      "text/plain": [
       "(269360, 10)"
      ]
     },
     "execution_count": 61,
     "metadata": {},
     "output_type": "execute_result"
    }
   ],
   "source": [
    "df_default.shape"
   ]
  },
  {
   "cell_type": "code",
   "execution_count": null,
   "metadata": {},
   "outputs": [],
   "source": []
  },
  {
   "cell_type": "code",
   "execution_count": 69,
   "metadata": {},
   "outputs": [
    {
     "data": {
      "text/plain": [
       "2317.7083760019423"
      ]
     },
     "execution_count": 69,
     "metadata": {},
     "output_type": "execute_result"
    }
   ],
   "source": [
    "df_paid.interest_over_principal.mean() #model scoring top left"
   ]
  },
  {
   "cell_type": "code",
   "execution_count": 59,
   "metadata": {},
   "outputs": [
    {
     "data": {
      "text/plain": [
       "-7266.53650170767"
      ]
     },
     "execution_count": 59,
     "metadata": {},
     "output_type": "execute_result"
    }
   ],
   "source": [
    "df_default.interest_over_principal.mean() #model scoring bottom left"
   ]
  },
  {
   "cell_type": "code",
   "execution_count": null,
   "metadata": {},
   "outputs": [],
   "source": []
  },
  {
   "cell_type": "code",
   "execution_count": 70,
   "metadata": {},
   "outputs": [
    {
     "data": {
      "text/plain": [
       "14124.637238479372"
      ]
     },
     "execution_count": 70,
     "metadata": {},
     "output_type": "execute_result"
    }
   ],
   "source": [
    "df_paid.loan_amnt.mean()"
   ]
  },
  {
   "cell_type": "code",
   "execution_count": 71,
   "metadata": {},
   "outputs": [
    {
     "data": {
      "text/plain": [
       "15547.816955004455"
      ]
     },
     "execution_count": 71,
     "metadata": {},
     "output_type": "execute_result"
    }
   ],
   "source": [
    "df_default.loan_amnt.mean()"
   ]
  },
  {
   "cell_type": "code",
   "execution_count": null,
   "metadata": {},
   "outputs": [],
   "source": []
  },
  {
   "cell_type": "code",
   "execution_count": 99,
   "metadata": {},
   "outputs": [
    {
     "data": {
      "text/plain": [
       "402.7064360406599"
      ]
     },
     "execution_count": 99,
     "metadata": {},
     "output_type": "execute_result"
    }
   ],
   "source": [
    "df.interest_over_principal.mean()"
   ]
  },
  {
   "cell_type": "code",
   "execution_count": 100,
   "metadata": {},
   "outputs": [
    {
     "data": {
      "text/plain": [
       "14408.998912542773"
      ]
     },
     "execution_count": 100,
     "metadata": {},
     "output_type": "execute_result"
    }
   ],
   "source": [
    "df.loan_amnt.mean()"
   ]
  },
  {
   "cell_type": "code",
   "execution_count": null,
   "metadata": {},
   "outputs": [],
   "source": []
  },
  {
   "cell_type": "code",
   "execution_count": null,
   "metadata": {},
   "outputs": [],
   "source": []
  },
  {
   "cell_type": "code",
   "execution_count": 25,
   "metadata": {},
   "outputs": [],
   "source": [
    "df['issue_d'] = df['issue_d'].apply(pd.to_datetime)"
   ]
  },
  {
   "cell_type": "code",
   "execution_count": null,
   "metadata": {},
   "outputs": [],
   "source": [
    "df['last_pymnt_d'] = df['last_pymnt_d'].apply(pd.to_datetime)"
   ]
  },
  {
   "cell_type": "code",
   "execution_count": null,
   "metadata": {},
   "outputs": [],
   "source": []
  },
  {
   "cell_type": "code",
   "execution_count": null,
   "metadata": {},
   "outputs": [],
   "source": []
  },
  {
   "cell_type": "code",
   "execution_count": null,
   "metadata": {},
   "outputs": [],
   "source": []
  },
  {
   "cell_type": "code",
   "execution_count": null,
   "metadata": {},
   "outputs": [],
   "source": []
  },
  {
   "cell_type": "code",
   "execution_count": null,
   "metadata": {},
   "outputs": [],
   "source": []
  },
  {
   "cell_type": "code",
   "execution_count": null,
   "metadata": {},
   "outputs": [],
   "source": []
  },
  {
   "cell_type": "code",
   "execution_count": null,
   "metadata": {},
   "outputs": [],
   "source": []
  },
  {
   "cell_type": "code",
   "execution_count": null,
   "metadata": {},
   "outputs": [],
   "source": []
  },
  {
   "cell_type": "code",
   "execution_count": null,
   "metadata": {},
   "outputs": [],
   "source": []
  },
  {
   "cell_type": "code",
   "execution_count": null,
   "metadata": {},
   "outputs": [],
   "source": []
  },
  {
   "cell_type": "code",
   "execution_count": null,
   "metadata": {},
   "outputs": [],
   "source": []
  },
  {
   "cell_type": "code",
   "execution_count": null,
   "metadata": {},
   "outputs": [],
   "source": []
  },
  {
   "cell_type": "code",
   "execution_count": null,
   "metadata": {},
   "outputs": [],
   "source": []
  },
  {
   "cell_type": "code",
   "execution_count": null,
   "metadata": {},
   "outputs": [],
   "source": []
  },
  {
   "cell_type": "code",
   "execution_count": null,
   "metadata": {},
   "outputs": [],
   "source": []
  },
  {
   "cell_type": "code",
   "execution_count": null,
   "metadata": {},
   "outputs": [],
   "source": []
  },
  {
   "cell_type": "code",
   "execution_count": null,
   "metadata": {},
   "outputs": [],
   "source": []
  }
 ],
 "metadata": {
  "kernelspec": {
   "display_name": "Python 3",
   "language": "python",
   "name": "python3"
  },
  "language_info": {
   "codemirror_mode": {
    "name": "ipython",
    "version": 3
   },
   "file_extension": ".py",
   "mimetype": "text/x-python",
   "name": "python",
   "nbconvert_exporter": "python",
   "pygments_lexer": "ipython3",
   "version": "3.7.3"
  }
 },
 "nbformat": 4,
 "nbformat_minor": 2
}
